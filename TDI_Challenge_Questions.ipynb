{
 "cells": [
  {
   "cell_type": "markdown",
   "metadata": {},
   "source": [
    "# TDI Challenge Questions"
   ]
  },
  {
   "cell_type": "markdown",
   "metadata": {},
   "source": [
    "## Section 3"
   ]
  },
  {
   "cell_type": "markdown",
   "metadata": {},
   "source": [
    "**Question**: You roll a fair 6-sided dice repeatedly until the sum of the dice rolls is greater than or equal to M. For all questions, give your answer to 5 decimal places."
   ]
  },
  {
   "cell_type": "markdown",
   "metadata": {},
   "source": [
    "**Solution**: \n",
    "Let's assume `M = 1`. This means that each and every number on the dice would be `>= M`. Therefore, the expected value of the sums would be simply the probablity of each dice face ($p_i = \\frac{1}{6}$) time the number itself:\n",
    "$<X>= \\sum_i=1^{6}p_i*i = 3.5$\n",
    "\n",
    "Now if `M = 2`, there are two possible scenarios:\n",
    "1. roll of the dice returns a number `>= 2`: $<X_1>= \\sum_{i=2}^{6}i\\times p_i = 3.3333$, where $p_i = \\frac{1}{6}$\n",
    "2. First dice roll is 1 which is `< 2`, then the second roll that result in summation greater than 2 could be any of the numbers on the dice face. Therefore, the $<X_2>= \\sum_{i=1}^{6}p_i(1+i) = 0.75$ where $p_i = \\frac{1}{36}$ Code: `1.0/36*sum(range(2,8)) = 0.75`\n",
    "\n",
    "Therefore, the final $<X> = <X_1> + <X_2>$ = 4.083333333333333"
   ]
  },
  {
   "cell_type": "code",
   "execution_count": null,
   "metadata": {},
   "outputs": [],
   "source": [
    "import numpy as np \n",
    "import random\n",
    "import sys\n",
    "random.seed(1)\n",
    "\n",
    "class RollSum():\n",
    "    def __init__(self,ntrials, M):\n",
    "        \n",
    "        self.ntrials = ntrials\n",
    "        self.M = M\n",
    "        \n",
    "        # store the sum of the rolls\n",
    "        self.sum_dice_rolls = [] \n",
    "        \n",
    "        # store the number of rolls per trial\n",
    "        self.number_of_rolls = []\n",
    "    \n",
    "    def roll_dice(self):\n",
    "        \n",
    "        roll = True\n",
    "        rolls_per_trial = 0\n",
    "        \n",
    "        trialsum = 0\n",
    "        while roll:\n",
    "\n",
    "            # keep track of number of rolls\n",
    "            rolls_per_trial += 1\n",
    "\n",
    "            # number on the dice\n",
    "            dice = random.randint(1,6)\n",
    "\n",
    "            # sum the numbers for each roll\n",
    "            trialsum += dice\n",
    "\n",
    "            # check the sum of the rolls against M\n",
    "            if trialsum >= self.M:\n",
    "                self.number_of_rolls.append(rolls_per_trial)\n",
    "                roll = False\n",
    "                \n",
    "        self.sum_dice_rolls.append(trialsum) \n",
    "    \n",
    "    def expected_value_calculator(self):\n",
    "        \n",
    "        for trial in range(self.ntrials):\n",
    "            self.roll_dice()\n",
    "            if (trial % 1000 == 0):\n",
    "                sys.stdout.write(\"\\rProgress: {} {}\".format(trial,self.number_of_rolls[trial]))\n",
    "            #sys.stdout.flush()\n",
    "        \n",
    "        # What is the mean of the sum minus M when M=20?\n",
    "        answer_Q1 = np.mean(self.sum_dice_rolls) - self.M\n",
    "        # What is the standard deviation of the sum minus M when M=20?\n",
    "        answer_Q2 = np.std(self.sum_dice_rolls) - self.M\n",
    "        # What is the mean of the number of rolls when M=20?\n",
    "        answer_Q3 = np.mean(self.number_of_rolls)\n",
    "        \n",
    "        return np.round([answer_Q1,answer_Q2,answer_Q3],5)\n",
    "    \n",
    "roll = RollSum(100000,5000)\n",
    "roll.expected_value_calculator()"
   ]
  },
  {
   "cell_type": "markdown",
   "metadata": {},
   "source": [
    "## Section 2"
   ]
  },
  {
   "cell_type": "markdown",
   "metadata": {},
   "source": [
    "With the rise of computer-aided police dispatch systems, many municipalities have large data sets on calls for service. These may include both calls from the public and from officers on patrol. Some cities provide this data to the public. New Orleans is one of these, with all of their Calls for Service data since 2011 available on their Open Data website.\n",
    "\n",
    "For each of the questions below, use the New Orleans Calls for Service data sets from 2016 through 2020. The data can be found in New Orleans' Open Data portal. Each year comes as its own CSV file: 2016, 2017, 2018, 2019, 2020. A brief description of the data can be found here, for example."
   ]
  },
  {
   "cell_type": "markdown",
   "metadata": {},
   "source": [
    "**1. Start by considering just the data from 2020. Calls are classfied into several types. What fraction of calls are of the most common type?**"
   ]
  },
  {
   "cell_type": "code",
   "execution_count": 1,
   "metadata": {},
   "outputs": [
    {
     "name": "stdout",
     "output_type": "stream",
     "text": [
      "0.23926753093150255\n"
     ]
    }
   ],
   "source": [
    "import pandas as pd\n",
    "df = pd.read_csv('Call_for_Service_2020.csv',sep=',')\n",
    "most_common_call = df['Type'].value_counts(ascending=False)\n",
    "fraction_most_common_call = most_common_call[0]/most_common_call.values.sum()\n",
    "print(fraction_most_common_call) # Answer: 0.23926753093150255"
   ]
  },
  {
   "cell_type": "markdown",
   "metadata": {},
   "source": [
    "**2. For this and the remaining questions, consider data from all five years. As you combine the data, you will notice that duplicate item numbers appear across years, for calls whose resolution spans the new year. Remove these duplicate rows. How many duplicate rows were removed?**"
   ]
  },
  {
   "cell_type": "code",
   "execution_count": 2,
   "metadata": {},
   "outputs": [
    {
     "name": "stderr",
     "output_type": "stream",
     "text": [
      "/Users/Mohammad/opt/anaconda3/lib/python3.8/site-packages/IPython/core/interactiveshell.py:3146: DtypeWarning: Columns (18) have mixed types.Specify dtype option on import or set low_memory=False.\n",
      "  has_raised = await self.run_ast_nodes(code_ast.body, cell_name,\n"
     ]
    }
   ],
   "source": [
    "import glob\n",
    "\n",
    "path = r'/Users/Mohammad/Research/TDI-Challenge/'\n",
    "all_files = glob.glob(path + \"/*.csv\")\n",
    "\n",
    "data_list = []\n",
    "col_list = []\n",
    "for file in all_files:\n",
    "    df = pd.read_csv(file, sep=',',parse_dates=True, infer_datetime_format = True)\n",
    "    col_list.append(df.columns)\n",
    "    data_list.append(df)\n",
    "\n",
    "# check for different column labels and match them with 2020 data\n",
    "# Type_ -> Type\n",
    "# TimeArrival -> TimeArrive\n",
    "column2020 = col_list[0]\n",
    "compare_col_list = []\n",
    "for i in range(len(col_list)):\n",
    "    check = col_list[i] == column2020\n",
    "    if (False in check):\n",
    "        pair_col_labels = zip(column2020.to_list(),col_list[i].to_list())\n",
    "        a = list(pair_col_labels)\n",
    "        a.sort()\n",
    "        compare_col_list.append(a)"
   ]
  },
  {
   "cell_type": "code",
   "execution_count": 3,
   "metadata": {
    "scrolled": true
   },
   "outputs": [],
   "source": [
    "df = pd.concat([data_list[0],\n",
    "           data_list[1].rename(columns={'Type_':'Type'}),\n",
    "           data_list[2].rename(columns={'Type_':'Type'}),\n",
    "           data_list[3].rename(columns={'Type_':'Type'}),\n",
    "           data_list[4].rename(columns={'TimeArrival':'TimeArrive'})\n",
    "          ], axis = 0, ignore_index=True)"
   ]
  },
  {
   "cell_type": "code",
   "execution_count": 4,
   "metadata": {
    "scrolled": true
   },
   "outputs": [
    {
     "name": "stdout",
     "output_type": "stream",
     "text": [
      "5724\n"
     ]
    }
   ],
   "source": [
    "# Find number of duplicates\n",
    "number_of_duplicates = df.duplicated(subset='NOPD_Item', keep='first').sum()\n",
    "print(number_of_duplicates)\n",
    "# remove the duplicate row based on items\n",
    "df.drop_duplicates(subset=['NOPD_Item'],inplace=True)  # answer: 5724"
   ]
  },
  {
   "cell_type": "markdown",
   "metadata": {},
   "source": [
    "**3. Work out the average (mean) response time in each district. What is the difference between the average response times of the districts with the longest and shortest times?**"
   ]
  },
  {
   "cell_type": "code",
   "execution_count": 5,
   "metadata": {
    "scrolled": true
   },
   "outputs": [
    {
     "name": "stdout",
     "output_type": "stream",
     "text": [
      "583.4775839472238\n"
     ]
    }
   ],
   "source": [
    "# convert the times into pandas timestamp\n",
    "time_arrive = pd.to_datetime(df['TimeArrive'], format=\"%m/%d/%Y %H:%M:%S %p\")\n",
    "time_dispatch = pd.to_datetime(df['TimeDispatch'], format=\"%m/%d/%Y %H:%M:%S %p\")\n",
    "# create a new column for response time in the original dataframe (df)\n",
    "response_time = time_arrive - time_dispatch\n",
    "# response_time = response_time.fillna(pd.Timedelta(seconds=0))\n",
    "response_time.name = 'ResponseTime'\n",
    "\n",
    "data = pd.concat([df,response_time],axis = 1)\n",
    "data['ResponseTime'] = data['ResponseTime'].apply(lambda x: x.total_seconds())\n",
    "\n",
    "# average (mean) response time in each district.\n",
    "grbyPD = data.groupby('PoliceDistrict')['ResponseTime'].mean()\n",
    "\n",
    "# difference between the average response times of the districts with the longest and shortest times\n",
    "diff_RP_time = grbyPD.max() - grbyPD.min()\n",
    "print(diff_RP_time) # answer 583.4775839472238"
   ]
  },
  {
   "cell_type": "markdown",
   "metadata": {},
   "source": [
    "**4. We can define surprising event types as those that occur more often in a district than they do over the whole city. What is the largest ratio of the conditional probability of an event type given a district to the unconditional probability of that event type? Consider only events types which have more than 100 events. Note that some events have their locations anonymized and are reported as being in district \"0\". These should be ignored.**"
   ]
  },
  {
   "cell_type": "code",
   "execution_count": 6,
   "metadata": {
    "scrolled": true
   },
   "outputs": [
    {
     "name": "stdout",
     "output_type": "stream",
     "text": [
      "10.69861596423761\n"
     ]
    }
   ],
   "source": [
    "grby_PD_Type = data.groupby(['PoliceDistrict','Type'])\n",
    "byPDType = grby_PD_Type.apply(lambda x: x['NOPD_Item'].count()).reset_index(name=\"Type_Count\")\n",
    "\n",
    "# remove the PoliceDistric = 0\n",
    "byPDType = byPDType[byPDType['PoliceDistrict'] !=0]\n",
    "\n",
    "# select events count > 100\n",
    "byPDType = byPDType[byPDType['Type_Count'] > 100]\n",
    "\n",
    "# probability of an event type\n",
    "total_number_of_event_types = byPDType['Type_Count'].sum()\n",
    "byPDType['ProbType'] = byPDType['Type_Count']/total_number_of_event_types\n",
    "\n",
    "# calculating the conditional prob of an event for a given district\n",
    "district_counts = byPDType.groupby('PoliceDistrict')['Type'].count().values\n",
    "number_of_types_per_district = byPDType.groupby('PoliceDistrict').apply(lambda x: x['Type_Count'].sum()).values\n",
    "\n",
    "number_of_types_per_district = [item for item, count in zip(list(number_of_types_per_district), list(district_counts)) for i in range(count)]\n",
    "    \n",
    "byPDType['perDistrict_Count'] = number_of_types_per_district\n",
    "\n",
    "# conditional prob caluclation\n",
    "byPDType['ProbType_wDistrictCond'] = byPDType['Type_Count']/byPDType['perDistrict_Count']\n",
    "\n",
    "#calculate the ratio \n",
    "byPDType['Ratio'] = byPDType['ProbType_wDistrictCond'] / byPDType['ProbType']\n",
    "\n",
    "print(byPDType['Ratio'].max()) # answer: 10.69861596423761"
   ]
  },
  {
   "cell_type": "markdown",
   "metadata": {},
   "source": [
    "**5. Now compare to the data from 2016. Find the call type that displayed the largest percentage decrease in volume between 2016 and 2020. What is the fraction of the 2016 volume that this decrease represents? The answer should be between 0 and 1. (Note that the name of the type column changes over time. You can use the TypeText column, which remains constant, to determine the call type.)**"
   ]
  },
  {
   "cell_type": "code",
   "execution_count": 9,
   "metadata": {},
   "outputs": [
    {
     "name": "stdout",
     "output_type": "stream",
     "text": [
      "0.24501437898144343\n"
     ]
    }
   ],
   "source": [
    "data_20 = data_list[0]\n",
    "data_16 = data_list[2].rename(columns={'Type_':'Type'})\n",
    "TypeVol_20 = data_20.groupby('Type')['NOPD_Item'].count()\n",
    "TypeVol_16 = data_16.groupby('Type')['NOPD_Item'].count()\n",
    "\n",
    "# We are measuring changes realtive to 2016 data\n",
    "# + means increase in call volume \n",
    "# - means decrease in call volume\n",
    "# We are lookig for the biggest negative\n",
    "changeVol = TypeVol_20 - TypeVol_16\n",
    "\n",
    "# largest decrease in call volume from 2016 to 2020\n",
    "call_type = changeVol[changeVol==changeVol.min()].index[0]\n",
    "\n",
    "# fraction of this call type in 2011 call volume\n",
    "frac = TypeVol_16[TypeVol_16.index == call_type].values[0]/TypeVol_16.sum()\n",
    "print(frac) #answer: 0.24501437898144343"
   ]
  },
  {
   "cell_type": "markdown",
   "metadata": {},
   "source": [
    "**6. Some calls result in an officer being dispatched to the scene, and some log an arrival time. What is the median response time (dispatch to arrival), in seconds, considering only valid (i.e. non-negative) times?**"
   ]
  },
  {
   "cell_type": "code",
   "execution_count": 32,
   "metadata": {},
   "outputs": [
    {
     "data": {
      "text/plain": [
       "311.0"
      ]
     },
     "execution_count": 32,
     "metadata": {},
     "output_type": "execute_result"
    }
   ],
   "source": [
    "data['ResponseTime'][data['ResponseTime'] > 0 ].median() # answer: 311.0"
   ]
  },
  {
   "cell_type": "markdown",
   "metadata": {},
   "source": [
    "**7. Work out the average response time for each month. Make an ordinary least-squares fit to the response time against month. What is the slope of this line, in seconds per year?**"
   ]
  },
  {
   "cell_type": "code",
   "execution_count": 43,
   "metadata": {
    "scrolled": true
   },
   "outputs": [
    {
     "name": "stderr",
     "output_type": "stream",
     "text": [
      "<ipython-input-43-ff52e840933f>:5: SettingWithCopyWarning: \n",
      "A value is trying to be set on a copy of a slice from a DataFrame\n",
      "\n",
      "See the caveats in the documentation: https://pandas.pydata.org/pandas-docs/stable/user_guide/indexing.html#returning-a-view-versus-a-copy\n",
      "  ResponseTime_Month.dropna(inplace=True)\n"
     ]
    },
    {
     "data": {
      "image/png": "[encoded data removed]",
      "text/plain": [
       "<Figure size 432x288 with 1 Axes>"
      ]
     },
     "metadata": {
      "needs_background": "light"
     },
     "output_type": "display_data"
    },
    {
     "data": {
      "text/plain": [
       "array([[97.37129784]])"
      ]
     },
     "execution_count": 43,
     "metadata": {},
     "output_type": "execute_result"
    }
   ],
   "source": [
    "data['TimeDispatch'] = pd.to_datetime(data['TimeDispatch'], format=\"%m/%d/%Y %H:%M:%S %p\")\n",
    "data['TimeDispatch'] = data['TimeDispatch'].dropna()\n",
    "data['Month_Only'] = data['TimeDispatch'].dt.month\n",
    "ResponseTime_Month  = data[['ResponseTime','Month_Only']]\n",
    "ResponseTime_Month.dropna(inplace=True)\n",
    "ResponseTime_Month = ResponseTime_Month[ResponseTime_Month['ResponseTime'] >0]\n",
    "MeanResponseTime_vs_Month = ResponseTime_Month.groupby('Month_Only').mean()\n",
    "X = MeanResponseTime_vs_Month.index.values\n",
    "X = X.reshape(len(X),1)\n",
    "Y = MeanResponseTime_vs_Month.values\n",
    "import matplotlib.pylab as plt\n",
    "from sklearn.linear_model import LinearRegression\n",
    "regressor = LinearRegression(fit_intercept=True)\n",
    "regressor.fit(X, Y)\n",
    "plt.scatter(X,Y,color='red')\n",
    "plt.plot(X,regressor.predict(X),color='black')\n",
    "plt.title(\"Mean Response Time vs. Month\")\n",
    "plt.xlabel(\"Month\")\n",
    "plt.ylabel(\"Mean Response Time (s)\")\n",
    "plt.show() \n",
    "regressor.coef_*12 # answer: 97.37130"
   ]
  },
  {
   "cell_type": "markdown",
   "metadata": {},
   "source": [
    "**6. We can use the call locations to estimate the areas of the police districts. Represent each as an ellipse with semi-axes given by a single standard deviation of the longitude and latitude. What is the area, in square kilometers, of the largest district measured in this manner?**"
   ]
  },
  {
   "cell_type": "code",
   "execution_count": 138,
   "metadata": {},
   "outputs": [
    {
     "name": "stdout",
     "output_type": "stream",
     "text": [
      "24135273.65108875\n"
     ]
    }
   ],
   "source": [
    "import re\n",
    "data['Location'] = data['Location'].apply(lambda x: re.findall(r'[-+]?([0-9]*\\.[0-9]+|[0-9]+)',str(x)))\n",
    "data['Location'] = data['Location'].apply(lambda x: list(map(float,x)))\n",
    "data[['Longitude','Lattitude']] = pd.DataFrame(data['Location'].tolist(), index= data.index)\n",
    "selected = data[['PoliceDistrict','Longitude','Lattitude']].dropna()\n",
    "grby_PD = selected.groupby('PoliceDistrict')\n",
    "distric_area = grby_PD[['Longitude','Lattitude']].std().eval('Longitude*Lattitude')\n",
    "lattitude_to_km  = 111. # Radius of earth multiply by 1*pi/180\n",
    "longitude_to_km = 96 # based on the NewOrleans coordinates\n",
    "largest_distric_area = distric_area.max()*lattitude_to_km*longitude_to_km*np.pi\n",
    "print(largest_distric_area) \n",
    "#answer: 2413.52736 It is very large !!!!\n",
    "\n",
    "\n"
   ]
  }
 ],
 "metadata": {
  "kernelspec": {
   "display_name": "Python 3",
   "language": "python",
   "name": "python3"
  },
  "language_info": {
   "codemirror_mode": {
    "name": "ipython",
    "version": 3
   },
   "file_extension": ".py",
   "mimetype": "text/x-python",
   "name": "python",
   "nbconvert_exporter": "python",
   "pygments_lexer": "ipython3",
   "version": "3.8.5"
  }
 },
 "nbformat": 4,
 "nbformat_minor": 4
}
